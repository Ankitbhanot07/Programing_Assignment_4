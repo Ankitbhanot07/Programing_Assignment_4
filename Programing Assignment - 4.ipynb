{
 "cells": [
  {
   "cell_type": "markdown",
   "id": "6ce528ba",
   "metadata": {},
   "source": [
    "1. Write a Python Program to Find the Factorial of a Number?\n",
    "2. Write a Python Program to Display the multiplication Table?\n",
    "3. Write a Python Program to Print the Fibonacci sequence?\n",
    "4. Write a Python Program to Check Armstrong Number?\n",
    "5. Write a Python Program to Find Armstrong Number in an Interval?\n",
    "6. Write a Python Program to Find the Sum of Natural Numbers?"
   ]
  },
  {
   "cell_type": "markdown",
   "id": "58ea8f6d",
   "metadata": {},
   "source": [
    "#Q1 : Write a Python Program to Find the Factorial of a Number?\n",
    "    \n",
    "a = int(input(\"Enter a number\"))\n",
    "f = 1\n",
    "for i in range(1,a + 1):\n",
    "       f = f*i\n",
    "print(\"The factorial of\",a,\"is\",f)"
   ]
  },
  {
   "cell_type": "markdown",
   "id": "522b450a",
   "metadata": {},
   "source": [
    "#Q2 :  Write a Python Program to Display the multiplication Table?\n",
    "\n",
    "a = int(input(\"display multiplication table of \"))\n",
    "for i in range (1,11):\n",
    "    print(a,\"x\",i,\"=\",a*i)"
   ]
  },
  {
   "cell_type": "markdown",
   "id": "b5ec1b45",
   "metadata": {},
   "source": [
    "#Q3 : Write a Python Program to Print the Fibonacci sequence?\n",
    "\n",
    "\n",
    "a = int(input(\"Enter a number\"))\n",
    "f = 1\n",
    "\n",
    "for i in range(1,a+1):\n",
    "    f = f*i\n",
    "    \n",
    "print(\"The factorial of\",a,\"is\",f)"
   ]
  },
  {
   "cell_type": "markdown",
   "id": "85321977",
   "metadata": {},
   "source": [
    "#Q4 :  Write a Python Program to Check Armstrong Number?\n",
    "\n",
    "a = int(input(\"Enter a number\"))\n",
    "sum = 0\n",
    "temp = a\n",
    "while temp > 0:\n",
    "   digit = temp % 10\n",
    "   sum += digit ** 3\n",
    "   temp //= 10\n",
    "\n",
    "\n",
    "if a == sum:\n",
    "   print(a,\"is an Armstrong number\")\n",
    "else:\n",
    "   print(a,\"is not an Armstrong number\")\n"
   ]
  },
  {
   "cell_type": "markdown",
   "id": "be377db2",
   "metadata": {},
   "source": [
    "#Q5 : Write a Python Program to Find Armstrong Number in an Interval?\n",
    "\n",
    "\n",
    "lower = 100\n",
    "upper = 2000\n",
    "\n",
    "for num in range(lower, upper + 1):\n",
    "\n",
    "   \n",
    "   order = len(str(num))\n",
    "    \n",
    "   \n",
    "   sum = 0\n",
    "\n",
    "   temp = num\n",
    "   while temp > 0:\n",
    "       digit = temp % 10\n",
    "       sum += digit ** order\n",
    "       temp //= 10\n",
    "\n",
    "   if num == sum:\n",
    "       print(num)"
   ]
  },
  {
   "cell_type": "markdown",
   "id": "6330177e",
   "metadata": {},
   "source": [
    "#Q6 : Write a Python Program to Find the Sum of Natural Numbers?\n",
    "\n",
    "\n",
    "num = 16\n",
    "\n",
    "if num < 0:\n",
    "   print(\"Enter a positive number\")\n",
    "else:\n",
    "   sum = 0\n",
    "   \n",
    "   while(num > 0):\n",
    "       sum += num\n",
    "       num -= 1\n",
    "   print(\"The sum is\", sum)\n"
   ]
  }
 ],
 "metadata": {
  "kernelspec": {
   "display_name": "Python 3 (ipykernel)",
   "language": "python",
   "name": "python3"
  },
  "language_info": {
   "codemirror_mode": {
    "name": "ipython",
    "version": 3
   },
   "file_extension": ".py",
   "mimetype": "text/x-python",
   "name": "python",
   "nbconvert_exporter": "python",
   "pygments_lexer": "ipython3",
   "version": "3.9.12"
  }
 },
 "nbformat": 4,
 "nbformat_minor": 5
}
